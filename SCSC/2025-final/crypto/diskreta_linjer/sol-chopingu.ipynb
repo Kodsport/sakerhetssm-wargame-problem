{
 "cells": [
  {
   "cell_type": "code",
   "execution_count": 114,
   "metadata": {},
   "outputs": [],
   "source": [
    "from Crypto.Util.number import *\n",
    "from sage.all import * "
   ]
  },
  {
   "cell_type": "code",
   "execution_count": 115,
   "metadata": {},
   "outputs": [],
   "source": [
    "def flatter(M):\n",
    "    from subprocess import check_output\n",
    "    from re import findall\n",
    "    z = \"[[\" + \"]\\n[\".join(\" \".join(map(str, row)) for row in M) + \"]]\"\n",
    "    ret = check_output([\"flatter\", \"-rhf\", \"1.03\"], input=z.encode())\n",
    "    return matrix(M.nrows(), M.ncols(), map(ZZ, findall(b\"-?\\\\d+\", ret)))"
   ]
  },
  {
   "cell_type": "code",
   "execution_count": 116,
   "metadata": {},
   "outputs": [],
   "source": [
    "with open('out.txt', 'r') as f:\n",
    "    p = eval(f.readline())\n",
    "    F = GF(p)\n",
    "\n",
    "    lines = [str(line).split(', ') for line in f.readlines()]\n",
    "    ratios = [F(eval(line[0])) for line in lines]\n",
    "    hints = [F(eval(line[1].strip())) for line in lines]"
   ]
  },
  {
   "cell_type": "code",
   "execution_count": 117,
   "metadata": {},
   "outputs": [],
   "source": [
    "A = matrix(ZZ, [(hint * ratio) for hint, ratio in zip(hints[1:], ratios[1:])])\n",
    "B = matrix(ZZ, [ratios[1:]])\n",
    "\n",
    "M = block_matrix(ZZ, [\n",
    "                 [A.T, B.T, 1], \n",
    "                 [p, 0, 0],\n",
    "                 [0, p, 0]\n",
    "                 ])\n",
    "                \n",
    "M[:, :2] *= p\n",
    "M = flatter(M)"
   ]
  },
  {
   "cell_type": "code",
   "execution_count": 118,
   "metadata": {},
   "outputs": [],
   "source": [
    "tmp = 9\n",
    "lams = [row[2:] for row in M[:tmp]]\n",
    "\n",
    "assert vector(F, [(hint * ratio) for hint, ratio in zip(hints[1:], ratios[1:])]) * vector(F, lams[-1]) == 0"
   ]
  },
  {
   "cell_type": "code",
   "execution_count": 119,
   "metadata": {},
   "outputs": [],
   "source": [
    "M2 = block_matrix(ZZ, [\n",
    "                 [matrix(lams).T, 1]])\n",
    "\n",
    "M2[:, :tmp] *= p\n",
    "M2 = flatter(M2)"
   ]
  },
  {
   "cell_type": "code",
   "execution_count": 120,
   "metadata": {},
   "outputs": [],
   "source": [
    "basis = matrix(ZZ, [row[tmp:] for row in M2[:5]])\n",
    "\n",
    "assert vector(F, basis[-1]) * vector(F, lams[-1]) == 0"
   ]
  },
  {
   "cell_type": "code",
   "execution_count": 122,
   "metadata": {},
   "outputs": [
    {
     "name": "stderr",
     "output_type": "stream",
     "text": [
      "1024it [00:00, 57380.23it/s]"
     ]
    },
    {
     "name": "stdout",
     "output_type": "stream",
     "text": [
      "['_', '4', '_', 'd', 't', 'r', 'd', 'r', 'l', 'r', '_', 'h', 'm', '3']\n",
      "['j', 't', 'k', 'u', '3', '_', '1', '3', '1', '_', 'L', '_', '_', '}']\n",
      "['4', 'b', 'u', '_', '1', '3', '_', 'k', '_', '3', 'h', 's', '4', 'k']\n",
      "['r', 'b', 'n', 'n', 'l', 'm', 'm', 's', '4', 'j', 'c', 'r', '1', '0']\n",
      "['b', '0', '_', '4', '_', '_', '0', '5', 't', 'n', '0', '4', 'L', 'L']\n"
     ]
    },
    {
     "name": "stderr",
     "output_type": "stream",
     "text": [
      "\n"
     ]
    }
   ],
   "source": [
    "from tqdm import *\n",
    "import itertools\n",
    "import string\n",
    "\n",
    "alph = string.printable\n",
    "\n",
    "sp = 2\n",
    "gen = [range(-sp, sp), range(-sp, sp), range(-sp, sp), range(-sp, sp), range(-sp, sp)]\n",
    "for c in tqdm(itertools.product(*gen)):\n",
    "    out = vector(c) * basis\n",
    "    if any(a < 0 for a in out):\n",
    "        continue\n",
    "\n",
    "    try:\n",
    "        chs = [chr(val & 0xff) for val in list(out)]\n",
    "        if any(ch not in alph for ch in chs):\n",
    "            continue\n",
    "            \n",
    "        print(chs)\n",
    "    except:\n",
    "        continue"
   ]
  }
 ],
 "metadata": {
  "kernelspec": {
   "display_name": "sage",
   "language": "python",
   "name": "python3"
  },
  "language_info": {
   "codemirror_mode": {
    "name": "ipython",
    "version": 3
   },
   "file_extension": ".py",
   "mimetype": "text/x-python",
   "name": "python",
   "nbconvert_exporter": "python",
   "pygments_lexer": "ipython3",
   "version": "3.12.5"
  }
 },
 "nbformat": 4,
 "nbformat_minor": 2
}

{
 "cells": [
  {
   "cell_type": "code",
   "execution_count": 1,
   "metadata": {
    "vscode": {
     "languageId": "plaintext"
    }
   },
   "outputs": [
    {
     "name": "stdout",
     "output_type": "stream",
     "text": [
      "[x] Starting local process './run_chall.sh'\n",
      "[+] Starting local process './run_chall.sh': pid 9751\n"
     ]
    },
    {
     "name": "stderr",
     "output_type": "stream",
     "text": [
      " 15%|█▌        | 9/60 [00:00<00:00, 84.85it/s]"
     ]
    },
    {
     "name": "stdout",
     "output_type": "stream",
     "text": [
      "b'[96497587833895178897146585081118619750, 19155983810463007923205098412389125908, 77403194945693884535551646882477900709, 71963690676437430092729130428434320105, 109974316959094934321658498652227825839, 63672052454251891160784353093469933358, 70320629393567473275290253471172573151, 3709456898888061492713311792754486779, 46205106068716053646737616084061000963, 15267548984556554821603931206454110826, 18212072540755338734102041294159887064, 66889565110886339601420266006298072587, 64372897668280347435536775442761279492, 2318855990639540102842855013461196598, 54575739041489529624788304593578480667, 37651745214517173948608278526297938602, 81891757430644587226352040520303634064, 114396359576097918103775937256150622957, 70164545923509706580750505144276375993, 67994096358301452403055774907787765190, 45151548674659747224425388597214518056, 73849214083234226939726640602802606163, 108214806200773685887979631886176176059, 65810134552462715336484479422578089629, 72342484928111564765807004224702324760, 97657190295772327255651991927927494569, 87273899419439470949214075706471474008, 12777057673587436401353540483347492960, 52731560050158193921982220563368335906, 87934588345464267400679351431667646579, 68096510190227167460798104168119072649, 4599046334725839270010438234626192874, 5711721987464316277900177524781472750, 15541716585764473225617281979879707857, 86639828983374309674593409743021305957, 15586782642415383633089426938055253999, 7820397551582693295905289186730921458, 110657340763787092772084167190710629885, 85239547720315188412495880148869915387, 15301138765797443115633678208149012360, 62726625875007934285893370186308931545, 54415813462075430281327116962299248688, 9674480405771490774236137363838540674, 90948759110167948423402376554954279499, 88844351289520010725098058506825445121, 103377030264711832959995926898098118388, 20771399976967913619731332943644996252, 71915218425503618408098901761441507850, 10931397236534723713675757118272032426, 7491293963669260450984905157920242525]\\n'\n"
     ]
    },
    {
     "name": "stderr",
     "output_type": "stream",
     "text": [
      "100%|██████████| 60/60 [00:00<00:00, 133.94it/s]\n"
     ]
    },
    {
     "name": "stdout",
     "output_type": "stream",
     "text": [
      "Number correct dimensions: 39\n",
      "b'flag{aaaaaaaaaaaaaaaaaasdlkjfaaalsdkjfsaasdsd;lfs}'\n"
     ]
    }
   ],
   "source": [
    "import pwn\n",
    "import json\n",
    "from tqdm import tqdm\n",
    "import random\n",
    "\n",
    "r = pwn.process(\"./run_chall.sh\")\n",
    "r.recvuntil(\"p = \")\n",
    "p = int(r.recvline())\n",
    "r.recvuntil(\"Here is the encrypted flag:\")\n",
    "r.recvline()\n",
    "flag = r.recvline()\n",
    "print(flag)\n",
    "flag = json.loads(flag)\n",
    "\n",
    "def encrypt(inp):\n",
    "    r.recvuntil(\"What would you like to encrypt?\")\n",
    "    r.sendline(json.dumps(inp))\n",
    "    return json.loads(r.recvline())\n",
    "\n",
    "F = GF(p)\n",
    "dims = 50\n",
    "num_samples = 60\n",
    "outs = []\n",
    "inps = []\n",
    "\n",
    "for i in tqdm(range(num_samples)):\n",
    "    inp = [random.randint(-1,2) for _ in range(dims)]\n",
    "    outs.append(encrypt(inp))\n",
    "    inps.append([F(x) for x in inp])\n",
    "\n",
    "outs = matrix(ZZ,outs).T\n",
    "\n",
    "M = block_matrix(2,1,[[identity_matrix(ZZ,len(outs[0]))*p],[outs]])\n",
    "lll = M.LLL()\n",
    "\n",
    "# This matrix is almost the correct second layer weights matrix,\n",
    "# Up to permutation, sign and a couple wrong elements\n",
    "T = Matrix(F,outs[:,:dims]).T.inverse() * Matrix(F,lll[dims:dims*2, :dims]).T \n",
    "\n",
    "e = (p+1)//2\n",
    "\n",
    "def out_to_mid(o):\n",
    "    return [F(x)^e for x in (o * T)]\n",
    "\n",
    "mids = []\n",
    "for i in range(num_samples):\n",
    "    mids.append(out_to_mid(outs[:,i].T[0]))\n",
    "\n",
    "# This is almost the correct first layer weights matrix\n",
    "L1 = (Matrix(F,inps[:dims]).inverse() * Matrix(F,mids[:dims])).T\n",
    "\n",
    "good_dims = set(range(dims))\n",
    "for i in range(num_samples):\n",
    "    mid_recon = L1 * vector(F,inps[i])\n",
    "    for j in range(len(mid_recon)):\n",
    "        if mids[i][j] != mid_recon[j] and j in good_dims:\n",
    "            good_dims.remove(j)\n",
    "print(\"Number correct dimensions:\",len(good_dims))\n",
    "\n",
    "L1_good = L1[list(good_dims)]\n",
    "L1_good = Matrix(ZZ,[[int(x) if int(x)<p//2 else int(x)-p for x in row] for row in L1_good]) # Need to translage p-x to -x\n",
    "    \n",
    "def small_solution(M, b):\n",
    "    # M*a == b for a small\n",
    "\n",
    "    b = Matrix(b)\n",
    "    n = M.ncols()\n",
    "    m = M.nrows()\n",
    "\n",
    "    B = block_matrix(2,2,[[b*10000,Matrix([[0]*n])],[M.T*10000,identity_matrix(n)]])\n",
    "\n",
    "    lll = B.LLL()\n",
    "    return (list(lll[0,m:])[0])\n",
    "    \n",
    "def decode(out_v):\n",
    "    mid_good = Matrix(F,out_to_mid(out_v))[0,list(good_dims)]\n",
    "    mid_good = Matrix(ZZ,[[int(x) if int(x)<p//2 else int(x)-p for x in row] for row in mid_good])\n",
    "\n",
    "    return small_solution(L1_good, mid_good)\n",
    "\n",
    "dec_flag = decode(vector(F,flag))\n",
    "\n",
    "print(bytes([abs(x) for x in dec_flag]))"
   ]
  },
  {
   "cell_type": "code",
   "execution_count": null,
   "metadata": {
    "vscode": {
     "languageId": "plaintext"
    }
   },
   "outputs": [],
   "source": []
  }
 ],
 "metadata": {
  "language_info": {
   "name": "python"
  }
 },
 "nbformat": 4,
 "nbformat_minor": 2
}
